{
 "cells": [
  {
   "cell_type": "code",
   "execution_count": 44,
   "id": "9c58000b-f60c-4401-9e3e-e2af13cf5e91",
   "metadata": {
    "tags": []
   },
   "outputs": [
    {
     "name": "stderr",
     "output_type": "stream",
     "text": [
      "C:\\Users\\calviem\\AppData\\Local\\Temp\\ipykernel_20828\\2490086813.py:12: SettingWithCopyWarning: \n",
      "A value is trying to be set on a copy of a slice from a DataFrame.\n",
      "Try using .loc[row_indexer,col_indexer] = value instead\n",
      "\n",
      "See the caveats in the documentation: https://pandas.pydata.org/pandas-docs/stable/user_guide/indexing.html#returning-a-view-versus-a-copy\n",
      "  X['Year'] = X['Year'].str.split(' ').str[1].astype(int)  # Extract and convert the numeric part of \"Year\"\n"
     ]
    },
    {
     "name": "stdout",
     "output_type": "stream",
     "text": [
      "RandomForestClassifier(n_estimators=50)\n",
      "Best Model with Hyperparameters: RandomForestClassifier(n_estimators=50)\n",
      "AUC: 0.7745630925859233\n",
      "Accuracy: 0.57\n",
      "Precision: 0.7037396343924704\n",
      "F1-Score: 0.625752877205292\n"
     ]
    }
   ],
   "source": [
    "import pandas as pd\n",
    "from sklearn.model_selection import train_test_split, GridSearchCV\n",
    "from sklearn.ensemble import RandomForestClassifier\n",
    "from sklearn.metrics import roc_auc_score, accuracy_score, precision_score, recall_score, f1_score\n",
    "from sklearn.metrics import roc_auc_score\n",
    "import joblib\n",
    "\n",
    "# Step 1: Data Preparation\n",
    "data = pd.read_csv('C:/Users/calviem/OneDrive - Rose-Hulman Institute of Technology/Desktop/XTern AI Assesment/XTern_data.csv')\n",
    "X = data[['Year', 'Major', 'University', 'Time']]\n",
    "y = data['Order']\n",
    "X['Year'] = X['Year'].str.split(' ').str[1].astype(int)  # Extract and convert the numeric part of \"Year\"\n",
    "\n",
    "# One-hot encode the \"Order\" column\n",
    "X = pd.get_dummies(X, columns=['Major', 'University'])\n",
    "y = pd.get_dummies(y)\n",
    "\n",
    "\n",
    "# Step 2: Model Selection\n",
    "model = RandomForestClassifier()\n",
    "\n",
    "# Step 3: Train-Test Split\n",
    "X_train, X_test, y_train, y_test = train_test_split(X, y, test_size=0.3, random_state=42)\n",
    "\n",
    "# Step 4: Model Training with Grid Search\n",
    "param_grid = {\n",
    "    'n_estimators': [10, 50],\n",
    "    'max_depth': [None],\n",
    "    'min_samples_split': [2],\n",
    "    'min_samples_leaf': [1]\n",
    "}\n",
    "grid_search = GridSearchCV(model, param_grid, cv=5)\n",
    "grid_search.fit(X_train, y_train)\n",
    "best_model = grid_search.best_estimator_\n",
    "print(grid_search.best_estimator_)\n",
    "\n",
    "\n",
    "# Step 5: Model Testing and Classification Metrics\n",
    "y_pred = best_model.predict(X_test)\n",
    "print(\"Best Model with Hyperparameters:\", best_model)\n",
    "\n",
    "\n",
    "# Calculate and print AUC, assuming 'y_test' and 'y_pred' are one-hot encoded, use average='macro'\n",
    "auc = roc_auc_score(y_test, y_pred, average='macro')\n",
    "print(f'AUC: {auc}')\n",
    "\n",
    "# Calculate and print Accuracy\n",
    "accuracy = accuracy_score(y_test, y_pred)\n",
    "print(f'Accuracy: {accuracy}')\n",
    "\n",
    "# Calculate and print Precision, and F1-Score\n",
    "# Use average='macro' for multiclass problems\n",
    "precision = precision_score(y_test, y_pred, average='macro')\n",
    "f1 = f1_score(y_test, y_pred, average='macro')\n",
    "\n",
    "print(f'Precision: {precision}')\n",
    "print(f'F1-Score: {f1}')"
   ]
  },
  {
   "cell_type": "raw",
   "id": "e9e210c0-dabf-4656-8512-ba3e04911130",
   "metadata": {},
   "source": [
    "Best option\n",
    "RandomForestClassifier(n_estimators=50, max_depth=None, min_samples_split=2, min_samples_leaf=1)\n",
    "AUC: 0.7794658820481462\n",
    "Accuracy: 0.58\n",
    "Precision: 0.7096141678634561\n",
    "F1-Score: 0.6337047630433756"
   ]
  }
 ],
 "metadata": {
  "kernelspec": {
   "display_name": "Python 3 (ipykernel)",
   "language": "python",
   "name": "python3"
  },
  "language_info": {
   "codemirror_mode": {
    "name": "ipython",
    "version": 3
   },
   "file_extension": ".py",
   "mimetype": "text/x-python",
   "name": "python",
   "nbconvert_exporter": "python",
   "pygments_lexer": "ipython3",
   "version": "3.11.5"
  }
 },
 "nbformat": 4,
 "nbformat_minor": 5
}
